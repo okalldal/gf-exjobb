{
 "cells": [
  {
   "cell_type": "code",
   "execution_count": 5,
   "metadata": {},
   "outputs": [
    {
     "name": "stderr",
     "output_type": "stream",
     "text": [
      "/opt/conda/lib/python3.6/site-packages/matplotlib/__init__.py:1405: UserWarning: \n",
      "This call to matplotlib.use() has no effect because the backend has already\n",
      "been chosen; matplotlib.use() must be called *before* pylab, matplotlib.pyplot,\n",
      "or matplotlib.backends is imported for the first time.\n",
      "\n",
      "  warnings.warn(_use_error_msg)\n"
     ]
    }
   ],
   "source": [
    "import matplotlib\n",
    "matplotlib.use('Agg')\n",
    "from nltk.parse.stanford import StanfordDependencyParser"
   ]
  },
  {
   "cell_type": "code",
   "execution_count": 2,
   "metadata": {
    "collapsed": true
   },
   "outputs": [],
   "source": [
    "PATH = \"/usr/lib/stanford-parser-full-2017-06-09/\"\n",
    "#PATH = \"/usr/local/Cellar/stanford-parser/3.6.0/libexec/\"\n",
    "JAR_PATH = PATH + \"stanford-parser.jar\"\n",
    "MODELS_PATH = PATH + \"stanford-parser-3.8.0-models.jar\"\n",
    "#MODELS_PATH = PATH + \"stanford-parser-3.6.0-models.jar\"\n",
    "parser = StanfordDependencyParser(path_to_jar=JAR_PATH, path_to_models_jar=MODELS_PATH)"
   ]
  },
  {
   "cell_type": "code",
   "execution_count": 7,
   "metadata": {},
   "outputs": [
    {
     "data": {
      "text/plain": [
       "[<matplotlib.lines.Line2D at 0x7f1df13e9ba8>]"
      ]
     },
     "execution_count": 7,
     "metadata": {},
     "output_type": "execute_result"
    },
    {
     "data": {
      "image/png": "[encoded data removed]",
      "text/plain": [
       "<matplotlib.figure.Figure at 0x7f1df1c60198>"
      ]
     },
     "metadata": {},
     "output_type": "display_data"
    }
   ],
   "source": [
    "import numpy as np\n",
    "import matplotlib.pyplot as plt\n",
    "%matplotlib inline\n",
    "\n",
    "x = np.arange(0, 5, 0.1);\n",
    "y = np.sin(x)\n",
    "plt.plot(x, y)"
   ]
  },
  {
   "cell_type": "code",
   "execution_count": 10,
   "metadata": {},
   "outputs": [
    {
     "data": {
      "image/svg+xml": [
       "<?xml version=\"1.0\" encoding=\"UTF-8\" standalone=\"no\"?>\n",
       "<!DOCTYPE svg PUBLIC \"-//W3C//DTD SVG 1.1//EN\"\n",
       " \"http://www.w3.org/Graphics/SVG/1.1/DTD/svg11.dtd\">\n",
       "<!-- Generated by graphviz version 2.38.0 (20140413.2041)\n",
       " -->\n",
       "<!-- Title: G Pages: 1 -->\n",
       "<svg width=\"191pt\" height=\"479pt\"\n",
       " viewBox=\"0.00 0.00 191.00 479.00\" xmlns=\"http://www.w3.org/2000/svg\" xmlns:xlink=\"http://www.w3.org/1999/xlink\">\n",
       "<g id=\"graph0\" class=\"graph\" transform=\"scale(1 1) rotate(0) translate(4 475)\">\n",
       "<title>G</title>\n",
       "<polygon fill=\"white\" stroke=\"none\" points=\"-4,4 -4,-475 187,-475 187,4 -4,4\"/>\n",
       "<!-- 0 -->\n",
       "<g id=\"node1\" class=\"node\"><title>0</title>\n",
       "<text text-anchor=\"middle\" x=\"95\" y=\"-449.3\" font-family=\"Times,serif\" font-size=\"14.00\">0 (None)</text>\n",
       "</g>\n",
       "<!-- 3 -->\n",
       "<g id=\"node2\" class=\"node\"><title>3</title>\n",
       "<text text-anchor=\"middle\" x=\"95\" y=\"-362.3\" font-family=\"Times,serif\" font-size=\"14.00\">3 (like)</text>\n",
       "</g>\n",
       "<!-- 0&#45;&gt;3 -->\n",
       "<g id=\"edge1\" class=\"edge\"><title>0&#45;&gt;3</title>\n",
       "<path fill=\"none\" stroke=\"black\" d=\"M95,-434.799C95,-423.163 95,-407.548 95,-394.237\"/>\n",
       "<polygon fill=\"black\" stroke=\"black\" points=\"98.5001,-394.175 95,-384.175 91.5001,-394.175 98.5001,-394.175\"/>\n",
       "<text text-anchor=\"middle\" x=\"110\" y=\"-405.8\" font-family=\"Times,serif\" font-size=\"14.00\">root</text>\n",
       "</g>\n",
       "<!-- 2 -->\n",
       "<g id=\"node4\" class=\"node\"><title>2</title>\n",
       "<text text-anchor=\"middle\" x=\"44\" y=\"-275.3\" font-family=\"Times,serif\" font-size=\"14.00\">2 (people)</text>\n",
       "</g>\n",
       "<!-- 3&#45;&gt;2 -->\n",
       "<g id=\"edge3\" class=\"edge\"><title>3&#45;&gt;2</title>\n",
       "<path fill=\"none\" stroke=\"black\" d=\"M82.0435,-347.881C78.0132,-342.293 73.6682,-335.985 70,-330 65.4198,-322.528 60.8616,-314.163 56.8707,-306.445\"/>\n",
       "<polygon fill=\"black\" stroke=\"black\" points=\"59.9593,-304.796 52.3207,-297.455 53.7137,-307.958 59.9593,-304.796\"/>\n",
       "<text text-anchor=\"middle\" x=\"90\" y=\"-318.8\" font-family=\"Times,serif\" font-size=\"14.00\">nsubj</text>\n",
       "</g>\n",
       "<!-- 4 -->\n",
       "<g id=\"node5\" class=\"node\"><title>4</title>\n",
       "<text text-anchor=\"middle\" x=\"140\" y=\"-275.3\" font-family=\"Times,serif\" font-size=\"14.00\">4 (fish)</text>\n",
       "</g>\n",
       "<!-- 3&#45;&gt;4 -->\n",
       "<g id=\"edge4\" class=\"edge\"><title>3&#45;&gt;4</title>\n",
       "<path fill=\"none\" stroke=\"black\" d=\"M104.106,-347.799C110.45,-335.817 119.026,-319.617 126.205,-306.057\"/>\n",
       "<polygon fill=\"black\" stroke=\"black\" points=\"129.321,-307.651 130.907,-297.175 123.135,-304.376 129.321,-307.651\"/>\n",
       "<text text-anchor=\"middle\" x=\"135.5\" y=\"-318.8\" font-family=\"Times,serif\" font-size=\"14.00\">dobj</text>\n",
       "</g>\n",
       "<!-- 1 -->\n",
       "<g id=\"node3\" class=\"node\"><title>1</title>\n",
       "<text text-anchor=\"middle\" x=\"44\" y=\"-188.3\" font-family=\"Times,serif\" font-size=\"14.00\">1 (Some)</text>\n",
       "</g>\n",
       "<!-- 2&#45;&gt;1 -->\n",
       "<g id=\"edge2\" class=\"edge\"><title>2&#45;&gt;1</title>\n",
       "<path fill=\"none\" stroke=\"black\" d=\"M44,-260.799C44,-249.163 44,-233.548 44,-220.237\"/>\n",
       "<polygon fill=\"black\" stroke=\"black\" points=\"47.5001,-220.175 44,-210.175 40.5001,-220.175 47.5001,-220.175\"/>\n",
       "<text text-anchor=\"middle\" x=\"56\" y=\"-231.8\" font-family=\"Times,serif\" font-size=\"14.00\">det</text>\n",
       "</g>\n",
       "<!-- 6 -->\n",
       "<g id=\"node6\" class=\"node\"><title>6</title>\n",
       "<text text-anchor=\"middle\" x=\"141\" y=\"-188.3\" font-family=\"Times,serif\" font-size=\"14.00\">6 (some)</text>\n",
       "</g>\n",
       "<!-- 4&#45;&gt;6 -->\n",
       "<g id=\"edge5\" class=\"edge\"><title>4&#45;&gt;6</title>\n",
       "<path fill=\"none\" stroke=\"black\" d=\"M140.202,-260.799C140.339,-249.163 140.523,-233.548 140.68,-220.237\"/>\n",
       "<polygon fill=\"black\" stroke=\"black\" points=\"144.18,-220.216 140.798,-210.175 137.18,-220.134 144.18,-220.216\"/>\n",
       "<text text-anchor=\"middle\" x=\"161.5\" y=\"-231.8\" font-family=\"Times,serif\" font-size=\"14.00\">appos</text>\n",
       "</g>\n",
       "<!-- 8 -->\n",
       "<g id=\"node7\" class=\"node\"><title>8</title>\n",
       "<text text-anchor=\"middle\" x=\"141\" y=\"-101.3\" font-family=\"Times,serif\" font-size=\"14.00\">8 (meat)</text>\n",
       "</g>\n",
       "<!-- 6&#45;&gt;8 -->\n",
       "<g id=\"edge6\" class=\"edge\"><title>6&#45;&gt;8</title>\n",
       "<path fill=\"none\" stroke=\"black\" d=\"M141,-173.799C141,-162.163 141,-146.548 141,-133.237\"/>\n",
       "<polygon fill=\"black\" stroke=\"black\" points=\"144.5,-133.175 141,-123.175 137.5,-133.175 144.5,-133.175\"/>\n",
       "<text text-anchor=\"middle\" x=\"161\" y=\"-144.8\" font-family=\"Times,serif\" font-size=\"14.00\">nmod</text>\n",
       "</g>\n",
       "<!-- 7 -->\n",
       "<g id=\"node8\" class=\"node\"><title>7</title>\n",
       "<text text-anchor=\"middle\" x=\"141\" y=\"-14.3\" font-family=\"Times,serif\" font-size=\"14.00\">7 (like)</text>\n",
       "</g>\n",
       "<!-- 8&#45;&gt;7 -->\n",
       "<g id=\"edge7\" class=\"edge\"><title>8&#45;&gt;7</title>\n",
       "<path fill=\"none\" stroke=\"black\" d=\"M141,-86.799C141,-75.1626 141,-59.5479 141,-46.2368\"/>\n",
       "<polygon fill=\"black\" stroke=\"black\" points=\"144.5,-46.1754 141,-36.1754 137.5,-46.1755 144.5,-46.1754\"/>\n",
       "<text text-anchor=\"middle\" x=\"157.5\" y=\"-57.8\" font-family=\"Times,serif\" font-size=\"14.00\">case</text>\n",
       "</g>\n",
       "</g>\n",
       "</svg>\n"
      ],
      "text/plain": [
       "<DependencyGraph with 8 nodes>"
      ]
     },
     "execution_count": 10,
     "metadata": {},
     "output_type": "execute_result"
    }
   ],
   "source": [
    "t = [parse for parse in parser.raw_parse(\"Some people like fish, some like meat.\")]\n",
    "t[0]"
   ]
  },
  {
   "cell_type": "code",
   "execution_count": null,
   "metadata": {
    "collapsed": true
   },
   "outputs": [],
   "source": []
  }
 ],
 "metadata": {
  "kernelspec": {
   "display_name": "Python 3",
   "language": "python",
   "name": "python3"
  },
  "language_info": {
   "codemirror_mode": {
    "name": "ipython",
    "version": 3
   },
   "file_extension": ".py",
   "mimetype": "text/x-python",
   "name": "python",
   "nbconvert_exporter": "python",
   "pygments_lexer": "ipython3",
   "version": "3.6.2"
  }
 },
 "nbformat": 4,
 "nbformat_minor": 2
}

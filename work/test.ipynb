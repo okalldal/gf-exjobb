{
 "cells": [
  {
   "cell_type": "code",
   "execution_count": 3,
   "metadata": {},
   "outputs": [],
   "source": [
    "%load_ext autoreload"
   ]
  },
  {
   "cell_type": "code",
   "execution_count": 4,
   "metadata": {},
   "outputs": [],
   "source": [
    "%aimport stats, gf_funs\n",
    "%autoreload 1"
   ]
  },
  {
   "cell_type": "code",
   "execution_count": 5,
   "metadata": {
    "collapsed": true
   },
   "outputs": [],
   "source": [
    "import pgf\n",
    "gr = pgf.readPGF('Dictionary.pgf')\n",
    "eng = gr.languages['DictionaryEng']\n",
    "swe = gr.languages['DictionarySwe']"
   ]
  },
  {
   "cell_type": "code",
   "execution_count": 6,
   "metadata": {
    "collapsed": true
   },
   "outputs": [],
   "source": [
    "import gf_funs\n",
    "import stats"
   ]
  },
  {
   "cell_type": "code",
   "execution_count": 12,
   "metadata": {},
   "outputs": [
    {
     "data": {
      "text/plain": [
       "[('playing_N', 's Sg Nom', inf),\n",
       " ('play_1_V', 's VPresPart', inf),\n",
       " ('play_2_V', 's VPresPart', inf),\n",
       " ('play_3_V', 's VPresPart', inf),\n",
       " ('play_along_V', 's VPresPart', inf),\n",
       " ('play_around_V', 's VPresPart', inf),\n",
       " ('play_away_V', 's VPresPart', inf),\n",
       " ('play_off_V', 's VPresPart', inf),\n",
       " ('play_on_V', 's VPresPart', inf),\n",
       " ('play_out_V', 's VPresPart', inf),\n",
       " ('play_up_V', 's VPresPart', inf),\n",
       " ('play_1_V2', 's VPresPart', inf),\n",
       " ('play_2_V2', 's VPresPart', inf),\n",
       " ('play_3_V2', 's VPresPart', inf),\n",
       " ('play_at_V2', 's VPresPart', inf),\n",
       " ('play_back_V2', 's VPresPart', inf),\n",
       " ('play_down_V2', 's VPresPart', inf),\n",
       " ('play_off_V2', 's VPresPart', inf),\n",
       " ('play_on_V2', 's VPresPart', inf),\n",
       " ('play_out_V2', 's VPresPart', inf),\n",
       " ('play_up_V2', 's VPresPart', inf),\n",
       " ('play_up_to_V2', 's VPresPart', inf),\n",
       " ('play_upon_V2', 's VPresPart', inf),\n",
       " ('play_with_V2', 's VPresPart', inf)]"
      ]
     },
     "execution_count": 12,
     "metadata": {},
     "output_type": "execute_result"
    }
   ],
   "source": [
    "eng.lookupMorpho('playing')"
   ]
  },
  {
   "cell_type": "code",
   "execution_count": null,
   "metadata": {
    "collapsed": true
   },
   "outputs": [],
   "source": []
  }
 ],
 "metadata": {
  "kernelspec": {
   "display_name": "Python 3",
   "language": "python",
   "name": "python3"
  },
  "language_info": {
   "codemirror_mode": {
    "name": "ipython",
    "version": 3
   },
   "file_extension": ".py",
   "mimetype": "text/x-python",
   "name": "python",
   "nbconvert_exporter": "python",
   "pygments_lexer": "ipython3",
   "version": "3.6.2"
  }
 },
 "nbformat": 4,
 "nbformat_minor": 1
}

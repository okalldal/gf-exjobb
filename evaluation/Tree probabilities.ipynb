{
 "cells": [
  {
   "cell_type": "code",
   "execution_count": 14,
   "metadata": {},
   "outputs": [
    {
     "name": "stdout",
     "output_type": "stream",
     "text": [
      "The autoreload extension is already loaded. To reload it, use:\n",
      "  %reload_ext autoreload\n"
     ]
    }
   ],
   "source": [
    "%load_ext autoreload\n",
    "%autoreload parse"
   ]
  },
  {
   "cell_type": "code",
   "execution_count": 1,
   "metadata": {
    "collapsed": true
   },
   "outputs": [],
   "source": [
    "import pgf\n",
    "import main\n",
    "import parse\n",
    "import analysis"
   ]
  },
  {
   "cell_type": "code",
   "execution_count": 11,
   "metadata": {
    "collapsed": true
   },
   "outputs": [],
   "source": [
    "gr = pgf.readPGF('../data/TranslateEngSwe.pgf')\n",
    "eng = gr.languages['TranslateEng']\n",
    "swe = gr.languages['TranslateSwe']\n",
    "p, ex = next(eng.parse('the horse likes to eat the hay which we all had selected'))"
   ]
  },
  {
   "cell_type": "code",
   "execution_count": 94,
   "metadata": {},
   "outputs": [
    {
     "data": {
      "text/plain": [
       "'tänka'"
      ]
     },
     "execution_count": 94,
     "metadata": {},
     "output_type": "execute_result"
    }
   ],
   "source": [
    "p, ex = next(eng.parse('I look at you'))\n",
    "swe.linearize(pgf.readExpr('think_VS'))"
   ]
  },
  {
   "cell_type": "code",
   "execution_count": 3,
   "metadata": {
    "collapsed": true
   },
   "outputs": [],
   "source": [
    "f, args = ex.unpack()\n",
    "f, args = args[1].unpack()\n",
    "f, args = args[0].unpack()\n",
    "predvp = args[2]"
   ]
  },
  {
   "cell_type": "code",
   "execution_count": 6,
   "metadata": {},
   "outputs": [
    {
     "data": {
      "text/plain": [
       "['head']"
      ]
     },
     "execution_count": 6,
     "metadata": {},
     "output_type": "execute_result"
    }
   ],
   "source": [
    "labels['which_IQuant']"
   ]
  },
  {
   "cell_type": "code",
   "execution_count": 5,
   "metadata": {},
   "outputs": [
    {
     "data": {
      "text/plain": [
       "['head']"
      ]
     },
     "execution_count": 5,
     "metadata": {},
     "output_type": "execute_result"
    }
   ],
   "source": [
    "from itertools import takewhile\n",
    "from collections import defaultdict\n",
    "with open('../data/Lang.labels') as f:\n",
    "    rows = [l.strip().split() for l in f if l.strip() != '']\n",
    "    labels = defaultdict(lambda: ['head'])\n",
    "    for row in rows:\n",
    "        fun, *rest = row\n",
    "        args = takewhile(lambda w: w[0:2] != '--', rest)\n",
    "        labels[fun] = list(args)\n",
    "labels['Utt']\n",
    "#[l for l in labels if len(l) == 0]"
   ]
  },
  {
   "cell_type": "code",
   "execution_count": 38,
   "metadata": {},
   "outputs": [
    {
     "data": {
      "text/plain": [
       "[('like_VV', [], 'root'),\n",
       " ('eat_V2', ['like_VV'], 'xcomp'),\n",
       " ('hay_N', ['eat_V2', 'like_VV'], 'dobj'),\n",
       " ('DefArt', ['hay_N', 'eat_V2', 'like_VV'], 'det'),\n",
       " ('NumSg', ['DefArt', 'hay_N', 'eat_V2', 'like_VV'], 'nummod'),\n",
       " ('horse_N', ['like_VV'], 'nsubj'),\n",
       " ('DefArt', ['horse_N', 'like_VV'], 'det'),\n",
       " ('NumSg', ['DefArt', 'horse_N', 'like_VV'], 'nummod'),\n",
       " ('TTAnt', ['like_VV'], 'empty'),\n",
       " ('PPos', ['like_VV'], 'empty'),\n",
       " ('which_IQuant', ['like_VV'], 'dep'),\n",
       " ('NumSg', ['which_IQuant', 'like_VV'], 'dep'),\n",
       " ('we_Pron', ['which_IQuant', 'like_VV'], 'dep'),\n",
       " ('all_Predet', ['we_Pron', 'which_IQuant', 'like_VV'], 'dep'),\n",
       " ('select_V', ['all_Predet', 'we_Pron', 'which_IQuant', 'like_VV'], 'dep'),\n",
       " ('TTAnt',\n",
       "  ['select_V', 'all_Predet', 'we_Pron', 'which_IQuant', 'like_VV'],\n",
       "  'empty'),\n",
       " ('PPos',\n",
       "  ['select_V', 'all_Predet', 'we_Pron', 'which_IQuant', 'like_VV'],\n",
       "  'empty')]"
      ]
     },
     "execution_count": 38,
     "metadata": {},
     "output_type": "execute_result"
    }
   ],
   "source": [
    "from itertools import chain\n",
    "def find_heads(expression, prev_heads = [], label='root'):\n",
    "    fun, arguments = expression.unpack()\n",
    "    arg_labels = labels[fun]\n",
    "    headi = arg_labels.index('head')\n",
    "    if (len(arguments) <= headi):\n",
    "        return [(fun, prev_heads, label)], fun\n",
    "    else:\n",
    "        out, head = gen_trigrams(arguments[headi], prev_heads, label)\n",
    "        for i, arg in enumerate(arguments):\n",
    "            if i != headi:\n",
    "                cur_label = arg_labels[i] if len(arg_labels) > i else label\n",
    "                tuples, _ = gen_trigrams(arg, [head] + prev_heads, cur_label)\n",
    "                out.extend(tuples)\n",
    "        return out, head\n",
    "        \n",
    "gen_trigrams(ex)[0]"
   ]
  },
  {
   "cell_type": "code",
   "execution_count": 19,
   "metadata": {},
   "outputs": [
    {
     "data": {
      "text/plain": [
       "'like_VV'"
      ]
     },
     "execution_count": 19,
     "metadata": {},
     "output_type": "execute_result"
    }
   ],
   "source": [
    "def find_head(expression):\n",
    "    fun, args = expression.unpack()    \n",
    "    head = labels[fun].index('head')\n",
    "    if len(args) <= head: return fun\n",
    "    return find_head(args[head])\n",
    "\n",
    "find_head(ex)"
   ]
  },
  {
   "cell_type": "code",
   "execution_count": 20,
   "metadata": {},
   "outputs": [
    {
     "name": "stdout",
     "output_type": "stream",
     "text": [
      "DET\n"
     ]
    }
   ],
   "source": [
    "cat = gr.functionType('DefArt').cat\n",
    "for ud_cat, gf_cats in parse.POSSIBLE_GF_CATS_BY_UD_CAT.items():\n",
    "    if cat in gf_cats:\n",
    "        print(ud_cat)"
   ]
  },
  {
   "cell_type": "code",
   "execution_count": 14,
   "metadata": {},
   "outputs": [
    {
     "data": {
      "text/plain": [
       "['root', 'root']"
      ]
     },
     "execution_count": 14,
     "metadata": {},
     "output_type": "execute_result"
    }
   ],
   "source": [
    "['root']*2"
   ]
  },
  {
   "cell_type": "code",
   "execution_count": null,
   "metadata": {
    "collapsed": true
   },
   "outputs": [],
   "source": []
  }
 ],
 "metadata": {
  "kernelspec": {
   "display_name": "Python 3",
   "language": "python",
   "name": "python3"
  },
  "language_info": {
   "codemirror_mode": {
    "name": "ipython",
    "version": 3
   },
   "file_extension": ".py",
   "mimetype": "text/x-python",
   "name": "python",
   "nbconvert_exporter": "python",
   "pygments_lexer": "ipython3",
   "version": "3.6.1"
  }
 },
 "nbformat": 4,
 "nbformat_minor": 2
}
